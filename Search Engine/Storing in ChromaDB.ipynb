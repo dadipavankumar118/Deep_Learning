{
 "cells": [
  {
   "cell_type": "code",
   "execution_count": 1,
   "id": "f846fcda-20e1-4b5a-bb1f-cc970ae9115b",
   "metadata": {},
   "outputs": [],
   "source": [
    "import pandas as pd\n",
    "from tqdm import tqdm\n",
    "\n",
    "import chromadb\n",
    "from chromadb.config import Settings"
   ]
  },
  {
   "cell_type": "code",
   "execution_count": 2,
   "id": "aa42512f-8991-4784-8a3c-7412419e4128",
   "metadata": {},
   "outputs": [
    {
     "data": {
      "text/html": [
       "<div>\n",
       "<style scoped>\n",
       "    .dataframe tbody tr th:only-of-type {\n",
       "        vertical-align: middle;\n",
       "    }\n",
       "\n",
       "    .dataframe tbody tr th {\n",
       "        vertical-align: top;\n",
       "    }\n",
       "\n",
       "    .dataframe thead th {\n",
       "        text-align: right;\n",
       "    }\n",
       "</style>\n",
       "<table border=\"1\" class=\"dataframe\">\n",
       "  <thead>\n",
       "    <tr style=\"text-align: right;\">\n",
       "      <th></th>\n",
       "      <th>num</th>\n",
       "      <th>name</th>\n",
       "      <th>chunks_text</th>\n",
       "      <th>text_vector_bert</th>\n",
       "    </tr>\n",
       "  </thead>\n",
       "  <tbody>\n",
       "    <tr>\n",
       "      <th>0</th>\n",
       "      <td>9263968</td>\n",
       "      <td>Bling Empire S03 E02 Gossip Guy (2022)</td>\n",
       "      <td>advertise product brand contact www opensubtit...</td>\n",
       "      <td>[0.11131072040000001, 0.2290139347, 0.07675495...</td>\n",
       "    </tr>\n",
       "    <tr>\n",
       "      <th>1</th>\n",
       "      <td>9441329</td>\n",
       "      <td>The Low Tone Club (2022)</td>\n",
       "      <td>okay four star form part new generation los ag...</td>\n",
       "      <td>[-0.0255548209, 0.0356444195, 0.14518733320000...</td>\n",
       "    </tr>\n",
       "    <tr>\n",
       "      <th>2</th>\n",
       "      <td>9441329</td>\n",
       "      <td>The Low Tone Club (2022)</td>\n",
       "      <td>want put verdi six feet look children let try ...</td>\n",
       "      <td>[0.0353549197, -0.1301862001, 0.0651464164, 0....</td>\n",
       "    </tr>\n",
       "    <tr>\n",
       "      <th>3</th>\n",
       "      <td>9441329</td>\n",
       "      <td>The Low Tone Club (2022)</td>\n",
       "      <td>deal deal say would think yeah continue think ...</td>\n",
       "      <td>[0.07811786230000001, -0.044406075, -0.1780554...</td>\n",
       "    </tr>\n",
       "    <tr>\n",
       "      <th>4</th>\n",
       "      <td>9441329</td>\n",
       "      <td>The Low Tone Club (2022)</td>\n",
       "      <td>many stairs let keep go come roma wrong feel o...</td>\n",
       "      <td>[0.1022469476, 0.0313826464, -0.0116566606, 0....</td>\n",
       "    </tr>\n",
       "  </tbody>\n",
       "</table>\n",
       "</div>"
      ],
      "text/plain": [
       "       num                                    name  \\\n",
       "0  9263968  Bling Empire S03 E02 Gossip Guy (2022)   \n",
       "1  9441329                The Low Tone Club (2022)   \n",
       "2  9441329                The Low Tone Club (2022)   \n",
       "3  9441329                The Low Tone Club (2022)   \n",
       "4  9441329                The Low Tone Club (2022)   \n",
       "\n",
       "                                         chunks_text  \\\n",
       "0  advertise product brand contact www opensubtit...   \n",
       "1  okay four star form part new generation los ag...   \n",
       "2  want put verdi six feet look children let try ...   \n",
       "3  deal deal say would think yeah continue think ...   \n",
       "4  many stairs let keep go come roma wrong feel o...   \n",
       "\n",
       "                                    text_vector_bert  \n",
       "0  [0.11131072040000001, 0.2290139347, 0.07675495...  \n",
       "1  [-0.0255548209, 0.0356444195, 0.14518733320000...  \n",
       "2  [0.0353549197, -0.1301862001, 0.0651464164, 0....  \n",
       "3  [0.07811786230000001, -0.044406075, -0.1780554...  \n",
       "4  [0.1022469476, 0.0313826464, -0.0116566606, 0....  "
      ]
     },
     "execution_count": 2,
     "metadata": {},
     "output_type": "execute_result"
    }
   ],
   "source": [
    "data = pd.read_json('bert_vectors_data.json')\n",
    "\n",
    "data.head()"
   ]
  },
  {
   "cell_type": "code",
   "execution_count": 3,
   "id": "32ad3b49-5b47-4e94-9fc6-86e630a50374",
   "metadata": {},
   "outputs": [
    {
     "name": "stdout",
     "output_type": "stream",
     "text": [
      "<class 'pandas.core.frame.DataFrame'>\n",
      "Int64Index: 310575 entries, 0 to 310574\n",
      "Data columns (total 4 columns):\n",
      " #   Column            Non-Null Count   Dtype \n",
      "---  ------            --------------   ----- \n",
      " 0   num               310575 non-null  int64 \n",
      " 1   name              310575 non-null  object\n",
      " 2   chunks_text       310575 non-null  object\n",
      " 3   text_vector_bert  310575 non-null  object\n",
      "dtypes: int64(1), object(3)\n",
      "memory usage: 11.8+ MB\n"
     ]
    }
   ],
   "source": [
    "data.info()"
   ]
  },
  {
   "cell_type": "code",
   "execution_count": 4,
   "id": "036d2b60-59a1-4c01-ba28-c09308a69915",
   "metadata": {},
   "outputs": [
    {
     "data": {
      "text/plain": [
       "0"
      ]
     },
     "execution_count": 4,
     "metadata": {},
     "output_type": "execute_result"
    }
   ],
   "source": [
    "chroma_client = chromadb.EphemeralClient()\n",
    "\n",
    "chroma_client.count_collections()"
   ]
  },
  {
   "cell_type": "code",
   "execution_count": 5,
   "id": "142ba8bf-7d88-4861-b150-84a4d43ff490",
   "metadata": {},
   "outputs": [],
   "source": [
    "client = chromadb.PersistentClient(path=\"Search_Engine_chromaDB\")\n",
    "\n",
    "collection = client.create_collection(name='Search_Engine',metadata={\"hnsw:space\": \"cosine\"})"
   ]
  },
  {
   "cell_type": "code",
   "execution_count": 6,
   "id": "78505fa4-cca7-45be-9014-9d4f92c864ae",
   "metadata": {},
   "outputs": [
    {
     "name": "stderr",
     "output_type": "stream",
     "text": [
      "Processing rows: 100%|███████████████████████████████████████████████████████| 310575/310575 [1:37:39<00:00, 53.01it/s]\n"
     ]
    }
   ],
   "source": [
    "for i, row in tqdm(data.iterrows(), total=len(data), desc=\"Processing rows\"):\n",
    "    \n",
    "    embedding = row['text_vector_bert']\n",
    "    \n",
    "    if embedding: \n",
    "        \n",
    "        ids = f\"chunk_{i}\"  \n",
    "        \n",
    "        embedding_list = [float(x) for x in embedding]\n",
    "        \n",
    "        collection.add(ids, embeddings = embedding_list, documents = row[\"chunks_text\"], metadatas = {\"name\": row[\"name\"]})\n",
    "        \n",
    "    else:\n",
    "        \n",
    "        row['text_vector_bert'] = [0.0] * len(row['text_vector_bert'])"
   ]
  },
  {
   "cell_type": "code",
   "execution_count": null,
   "id": "4db35e50-b9f3-44ba-b2f4-5930c79671d6",
   "metadata": {},
   "outputs": [],
   "source": []
  }
 ],
 "metadata": {
  "kernelspec": {
   "display_name": "Python 3 (ipykernel)",
   "language": "python",
   "name": "python3"
  },
  "language_info": {
   "codemirror_mode": {
    "name": "ipython",
    "version": 3
   },
   "file_extension": ".py",
   "mimetype": "text/x-python",
   "name": "python",
   "nbconvert_exporter": "python",
   "pygments_lexer": "ipython3",
   "version": "3.10.9"
  }
 },
 "nbformat": 4,
 "nbformat_minor": 5
}
