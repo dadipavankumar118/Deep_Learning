{
 "cells": [
  {
   "cell_type": "code",
   "execution_count": 1,
   "id": "189b3bed-0d52-44fd-bc01-019633f50c6d",
   "metadata": {},
   "outputs": [],
   "source": [
    "import pandas as pd\n",
    "import numpy as np"
   ]
  },
  {
   "cell_type": "code",
   "execution_count": 2,
   "id": "2d29f034-4a62-48a5-8011-b4682e61d2e3",
   "metadata": {},
   "outputs": [
    {
     "data": {
      "text/html": [
       "<div>\n",
       "<style scoped>\n",
       "    .dataframe tbody tr th:only-of-type {\n",
       "        vertical-align: middle;\n",
       "    }\n",
       "\n",
       "    .dataframe tbody tr th {\n",
       "        vertical-align: top;\n",
       "    }\n",
       "\n",
       "    .dataframe thead th {\n",
       "        text-align: right;\n",
       "    }\n",
       "</style>\n",
       "<table border=\"1\" class=\"dataframe\">\n",
       "  <thead>\n",
       "    <tr style=\"text-align: right;\">\n",
       "      <th></th>\n",
       "      <th>num</th>\n",
       "      <th>name</th>\n",
       "      <th>cleaned_text</th>\n",
       "    </tr>\n",
       "  </thead>\n",
       "  <tbody>\n",
       "    <tr>\n",
       "      <th>0</th>\n",
       "      <td>9263968</td>\n",
       "      <td>Bling Empire S03 E02 Gossip Guy (2022)</td>\n",
       "      <td>advertise product brand contact www opensubtit...</td>\n",
       "    </tr>\n",
       "    <tr>\n",
       "      <th>1</th>\n",
       "      <td>9441329</td>\n",
       "      <td>The Low Tone Club (2022)</td>\n",
       "      <td>okay four star form part new generation los ag...</td>\n",
       "    </tr>\n",
       "    <tr>\n",
       "      <th>2</th>\n",
       "      <td>9451132</td>\n",
       "      <td>De Verraders S01 E05 Episode 1 5 (2022)</td>\n",
       "      <td>castle invite 18 famous flemish people blood c...</td>\n",
       "    </tr>\n",
       "    <tr>\n",
       "      <th>3</th>\n",
       "      <td>9463476</td>\n",
       "      <td>Legend Of The Seeker S02 E06 Fury (2009)</td>\n",
       "      <td>richard cypher true seeker see deer change dir...</td>\n",
       "    </tr>\n",
       "    <tr>\n",
       "      <th>4</th>\n",
       "      <td>9469678</td>\n",
       "      <td>Fringe S01 E09 The Dreamscape (2008)</td>\n",
       "      <td>previously fringe call events pattern someone ...</td>\n",
       "    </tr>\n",
       "  </tbody>\n",
       "</table>\n",
       "</div>"
      ],
      "text/plain": [
       "       num                                      name  \\\n",
       "0  9263968    Bling Empire S03 E02 Gossip Guy (2022)   \n",
       "1  9441329                  The Low Tone Club (2022)   \n",
       "2  9451132   De Verraders S01 E05 Episode 1 5 (2022)   \n",
       "3  9463476  Legend Of The Seeker S02 E06 Fury (2009)   \n",
       "4  9469678      Fringe S01 E09 The Dreamscape (2008)   \n",
       "\n",
       "                                        cleaned_text  \n",
       "0  advertise product brand contact www opensubtit...  \n",
       "1  okay four star form part new generation los ag...  \n",
       "2  castle invite 18 famous flemish people blood c...  \n",
       "3  richard cypher true seeker see deer change dir...  \n",
       "4  previously fringe call events pattern someone ...  "
      ]
     },
     "execution_count": 2,
     "metadata": {},
     "output_type": "execute_result"
    }
   ],
   "source": [
    "df = pd.read_csv('final_data.csv')\n",
    "\n",
    "df.head()"
   ]
  },
  {
   "cell_type": "code",
   "execution_count": 3,
   "id": "bb4f7549-6e97-4a3d-b60c-4ba29b28c070",
   "metadata": {},
   "outputs": [
    {
     "name": "stdout",
     "output_type": "stream",
     "text": [
      "<class 'pandas.core.frame.DataFrame'>\n",
      "RangeIndex: 24749 entries, 0 to 24748\n",
      "Data columns (total 3 columns):\n",
      " #   Column        Non-Null Count  Dtype \n",
      "---  ------        --------------  ----- \n",
      " 0   num           24749 non-null  int64 \n",
      " 1   name          24749 non-null  object\n",
      " 2   cleaned_text  24748 non-null  object\n",
      "dtypes: int64(1), object(2)\n",
      "memory usage: 580.2+ KB\n"
     ]
    }
   ],
   "source": [
    "df.info()"
   ]
  },
  {
   "cell_type": "code",
   "execution_count": 4,
   "id": "e456ea89-cc79-41e4-8ee8-4ce03ecbc809",
   "metadata": {},
   "outputs": [
    {
     "name": "stdout",
     "output_type": "stream",
     "text": [
      "<class 'pandas.core.frame.DataFrame'>\n",
      "Int64Index: 24748 entries, 0 to 24748\n",
      "Data columns (total 3 columns):\n",
      " #   Column        Non-Null Count  Dtype \n",
      "---  ------        --------------  ----- \n",
      " 0   num           24748 non-null  int64 \n",
      " 1   name          24748 non-null  object\n",
      " 2   cleaned_text  24748 non-null  object\n",
      "dtypes: int64(1), object(2)\n",
      "memory usage: 773.4+ KB\n"
     ]
    }
   ],
   "source": [
    "df.dropna(axis= 0, inplace= True)\n",
    "\n",
    "df.info()"
   ]
  },
  {
   "cell_type": "code",
   "execution_count": 5,
   "id": "6e5084d4-7f65-4d8b-b849-2cef9319f3e8",
   "metadata": {},
   "outputs": [],
   "source": [
    "df = df.sample(frac= 0.25)"
   ]
  },
  {
   "cell_type": "code",
   "execution_count": 6,
   "id": "53301f47-9362-40c8-9449-9f664892fe02",
   "metadata": {},
   "outputs": [],
   "source": [
    "def chunk_document(corpous, id_col, chunk_size=300):\n",
    "    \n",
    "    data = []\n",
    "    \n",
    "    for doc,id  in zip(corpous, id_col):\n",
    "        words = doc.split()\n",
    "        \n",
    "        for i in range(0, len(words), chunk_size):\n",
    "            chunk = ' '.join(words[i:i + chunk_size])\n",
    "            data.append((id,chunk))\n",
    "            \n",
    "    df = pd.DataFrame(data)\n",
    "\n",
    "    return df"
   ]
  },
  {
   "cell_type": "code",
   "execution_count": 7,
   "id": "d29d3c02-14ff-4d02-bd03-f0bb530e3170",
   "metadata": {},
   "outputs": [],
   "source": [
    "chuncked_df = chunk_document(df['cleaned_text'],df['num'])"
   ]
  },
  {
   "cell_type": "code",
   "execution_count": 8,
   "id": "9b35c49a-0852-4d57-bead-a93ec5fa6ded",
   "metadata": {},
   "outputs": [
    {
     "data": {
      "text/html": [
       "<div>\n",
       "<style scoped>\n",
       "    .dataframe tbody tr th:only-of-type {\n",
       "        vertical-align: middle;\n",
       "    }\n",
       "\n",
       "    .dataframe tbody tr th {\n",
       "        vertical-align: top;\n",
       "    }\n",
       "\n",
       "    .dataframe thead th {\n",
       "        text-align: right;\n",
       "    }\n",
       "</style>\n",
       "<table border=\"1\" class=\"dataframe\">\n",
       "  <thead>\n",
       "    <tr style=\"text-align: right;\">\n",
       "      <th></th>\n",
       "      <th>0</th>\n",
       "      <th>1</th>\n",
       "    </tr>\n",
       "  </thead>\n",
       "  <tbody>\n",
       "    <tr>\n",
       "      <th>0</th>\n",
       "      <td>9440550</td>\n",
       "      <td>advertise product brand contact www opensubtit...</td>\n",
       "    </tr>\n",
       "    <tr>\n",
       "      <th>1</th>\n",
       "      <td>9440550</td>\n",
       "      <td>man say take location turn classy bar yeah kno...</td>\n",
       "    </tr>\n",
       "    <tr>\n",
       "      <th>2</th>\n",
       "      <td>9440550</td>\n",
       "      <td>old woman also like course older woman still w...</td>\n",
       "    </tr>\n",
       "    <tr>\n",
       "      <th>3</th>\n",
       "      <td>9440550</td>\n",
       "      <td>baby things come naturally wow lettuce aunt li...</td>\n",
       "    </tr>\n",
       "    <tr>\n",
       "      <th>4</th>\n",
       "      <td>9440550</td>\n",
       "      <td>house collateral house barely call nice woman ...</td>\n",
       "    </tr>\n",
       "  </tbody>\n",
       "</table>\n",
       "</div>"
      ],
      "text/plain": [
       "         0                                                  1\n",
       "0  9440550  advertise product brand contact www opensubtit...\n",
       "1  9440550  man say take location turn classy bar yeah kno...\n",
       "2  9440550  old woman also like course older woman still w...\n",
       "3  9440550  baby things come naturally wow lettuce aunt li...\n",
       "4  9440550  house collateral house barely call nice woman ..."
      ]
     },
     "execution_count": 8,
     "metadata": {},
     "output_type": "execute_result"
    }
   ],
   "source": [
    "chuncked_df.head()"
   ]
  },
  {
   "cell_type": "code",
   "execution_count": 9,
   "id": "effcdb05-0f23-46e5-aa9b-34d7735debf1",
   "metadata": {},
   "outputs": [
    {
     "data": {
      "text/html": [
       "<div>\n",
       "<style scoped>\n",
       "    .dataframe tbody tr th:only-of-type {\n",
       "        vertical-align: middle;\n",
       "    }\n",
       "\n",
       "    .dataframe tbody tr th {\n",
       "        vertical-align: top;\n",
       "    }\n",
       "\n",
       "    .dataframe thead th {\n",
       "        text-align: right;\n",
       "    }\n",
       "</style>\n",
       "<table border=\"1\" class=\"dataframe\">\n",
       "  <thead>\n",
       "    <tr style=\"text-align: right;\">\n",
       "      <th></th>\n",
       "      <th>num</th>\n",
       "      <th>chunks_text</th>\n",
       "    </tr>\n",
       "  </thead>\n",
       "  <tbody>\n",
       "    <tr>\n",
       "      <th>0</th>\n",
       "      <td>9440550</td>\n",
       "      <td>advertise product brand contact www opensubtit...</td>\n",
       "    </tr>\n",
       "    <tr>\n",
       "      <th>1</th>\n",
       "      <td>9440550</td>\n",
       "      <td>man say take location turn classy bar yeah kno...</td>\n",
       "    </tr>\n",
       "    <tr>\n",
       "      <th>2</th>\n",
       "      <td>9440550</td>\n",
       "      <td>old woman also like course older woman still w...</td>\n",
       "    </tr>\n",
       "    <tr>\n",
       "      <th>3</th>\n",
       "      <td>9440550</td>\n",
       "      <td>baby things come naturally wow lettuce aunt li...</td>\n",
       "    </tr>\n",
       "    <tr>\n",
       "      <th>4</th>\n",
       "      <td>9440550</td>\n",
       "      <td>house collateral house barely call nice woman ...</td>\n",
       "    </tr>\n",
       "  </tbody>\n",
       "</table>\n",
       "</div>"
      ],
      "text/plain": [
       "       num                                        chunks_text\n",
       "0  9440550  advertise product brand contact www opensubtit...\n",
       "1  9440550  man say take location turn classy bar yeah kno...\n",
       "2  9440550  old woman also like course older woman still w...\n",
       "3  9440550  baby things come naturally wow lettuce aunt li...\n",
       "4  9440550  house collateral house barely call nice woman ..."
      ]
     },
     "execution_count": 9,
     "metadata": {},
     "output_type": "execute_result"
    }
   ],
   "source": [
    "chuncked_df.columns =['num','chunks_text']\n",
    "\n",
    "chuncked_df.head()"
   ]
  },
  {
   "cell_type": "code",
   "execution_count": 10,
   "id": "b2638299-a9f5-485a-bc4e-2aec35cd0eac",
   "metadata": {},
   "outputs": [
    {
     "name": "stdout",
     "output_type": "stream",
     "text": [
      "<class 'pandas.core.frame.DataFrame'>\n",
      "RangeIndex: 77629 entries, 0 to 77628\n",
      "Data columns (total 2 columns):\n",
      " #   Column       Non-Null Count  Dtype \n",
      "---  ------       --------------  ----- \n",
      " 0   num          77629 non-null  int64 \n",
      " 1   chunks_text  77629 non-null  object\n",
      "dtypes: int64(1), object(1)\n",
      "memory usage: 1.2+ MB\n"
     ]
    }
   ],
   "source": [
    "chuncked_df.info()"
   ]
  },
  {
   "cell_type": "code",
   "execution_count": 11,
   "id": "a4676109-a5f3-46da-a0c8-def7860477ab",
   "metadata": {},
   "outputs": [
    {
     "name": "stdout",
     "output_type": "stream",
     "text": [
      "<class 'pandas.core.frame.DataFrame'>\n",
      "Int64Index: 77629 entries, 0 to 77628\n",
      "Data columns (total 4 columns):\n",
      " #   Column        Non-Null Count  Dtype \n",
      "---  ------        --------------  ----- \n",
      " 0   num           77629 non-null  int64 \n",
      " 1   chunks_text   77629 non-null  object\n",
      " 2   name          77629 non-null  object\n",
      " 3   cleaned_text  77629 non-null  object\n",
      "dtypes: int64(1), object(3)\n",
      "memory usage: 3.0+ MB\n"
     ]
    }
   ],
   "source": [
    "merged_df = chuncked_df.merge(df, left_on= \"num\", right_on= \"num\", how= \"left\")\n",
    "\n",
    "merged_df.info()"
   ]
  },
  {
   "cell_type": "code",
   "execution_count": 12,
   "id": "793d6a88-eae8-4db9-96f8-5cf9e139336a",
   "metadata": {},
   "outputs": [
    {
     "data": {
      "text/html": [
       "<div>\n",
       "<style scoped>\n",
       "    .dataframe tbody tr th:only-of-type {\n",
       "        vertical-align: middle;\n",
       "    }\n",
       "\n",
       "    .dataframe tbody tr th {\n",
       "        vertical-align: top;\n",
       "    }\n",
       "\n",
       "    .dataframe thead th {\n",
       "        text-align: right;\n",
       "    }\n",
       "</style>\n",
       "<table border=\"1\" class=\"dataframe\">\n",
       "  <thead>\n",
       "    <tr style=\"text-align: right;\">\n",
       "      <th></th>\n",
       "      <th>num</th>\n",
       "      <th>name</th>\n",
       "      <th>chunks_text</th>\n",
       "    </tr>\n",
       "  </thead>\n",
       "  <tbody>\n",
       "    <tr>\n",
       "      <th>0</th>\n",
       "      <td>9440550</td>\n",
       "      <td>Go Mrs Go S01 E29 Episode 1 29 (2012)</td>\n",
       "      <td>advertise product brand contact www opensubtit...</td>\n",
       "    </tr>\n",
       "    <tr>\n",
       "      <th>1</th>\n",
       "      <td>9440550</td>\n",
       "      <td>Go Mrs Go S01 E29 Episode 1 29 (2012)</td>\n",
       "      <td>man say take location turn classy bar yeah kno...</td>\n",
       "    </tr>\n",
       "    <tr>\n",
       "      <th>2</th>\n",
       "      <td>9440550</td>\n",
       "      <td>Go Mrs Go S01 E29 Episode 1 29 (2012)</td>\n",
       "      <td>old woman also like course older woman still w...</td>\n",
       "    </tr>\n",
       "    <tr>\n",
       "      <th>3</th>\n",
       "      <td>9440550</td>\n",
       "      <td>Go Mrs Go S01 E29 Episode 1 29 (2012)</td>\n",
       "      <td>baby things come naturally wow lettuce aunt li...</td>\n",
       "    </tr>\n",
       "    <tr>\n",
       "      <th>4</th>\n",
       "      <td>9440550</td>\n",
       "      <td>Go Mrs Go S01 E29 Episode 1 29 (2012)</td>\n",
       "      <td>house collateral house barely call nice woman ...</td>\n",
       "    </tr>\n",
       "  </tbody>\n",
       "</table>\n",
       "</div>"
      ],
      "text/plain": [
       "       num                                   name  \\\n",
       "0  9440550  Go Mrs Go S01 E29 Episode 1 29 (2012)   \n",
       "1  9440550  Go Mrs Go S01 E29 Episode 1 29 (2012)   \n",
       "2  9440550  Go Mrs Go S01 E29 Episode 1 29 (2012)   \n",
       "3  9440550  Go Mrs Go S01 E29 Episode 1 29 (2012)   \n",
       "4  9440550  Go Mrs Go S01 E29 Episode 1 29 (2012)   \n",
       "\n",
       "                                         chunks_text  \n",
       "0  advertise product brand contact www opensubtit...  \n",
       "1  man say take location turn classy bar yeah kno...  \n",
       "2  old woman also like course older woman still w...  \n",
       "3  baby things come naturally wow lettuce aunt li...  \n",
       "4  house collateral house barely call nice woman ...  "
      ]
     },
     "execution_count": 12,
     "metadata": {},
     "output_type": "execute_result"
    }
   ],
   "source": [
    "data = merged_df[['num','name','chunks_text']]\n",
    "\n",
    "data.head()"
   ]
  },
  {
   "cell_type": "code",
   "execution_count": 13,
   "id": "8131ad8e-f8a9-400b-aa66-0a6dc9ca132f",
   "metadata": {},
   "outputs": [],
   "source": [
    "from sentence_transformers import SentenceTransformer, util\n",
    "\n",
    "model = SentenceTransformer('paraphrase-MiniLM-L3-v2')"
   ]
  },
  {
   "cell_type": "code",
   "execution_count": 14,
   "id": "cf4e215e-f0dc-4a0f-8a2b-a98420624ca3",
   "metadata": {},
   "outputs": [],
   "source": [
    "import pandas as pd\n",
    "from sentence_transformers import SentenceTransformer\n",
    "from sklearn.metrics.pairwise import cosine_similarity\n",
    "import chromadb\n",
    "\n",
    "import pandas as pd\n",
    "from tqdm import tqdm"
   ]
  },
  {
   "cell_type": "code",
   "execution_count": 15,
   "id": "603fbe25-ff84-485c-bb4e-e3d4495dd643",
   "metadata": {},
   "outputs": [
    {
     "name": "stderr",
     "output_type": "stream",
     "text": [
      "  1%|▋                                                                          | 674/77629 [29:31<56:11:40,  2.63s/it]\n",
      "\n",
      "KeyboardInterrupt\n",
      "\n"
     ]
    }
   ],
   "source": [
    "tqdm.pandas()\n",
    "data['text_vector_bert'] = data['chunks_text'].progress_apply(model.encode)\n",
    "\n",
    "data.head()"
   ]
  },
  {
   "cell_type": "code",
   "execution_count": null,
   "id": "7f539b36-378d-4a93-a140-4bc9aeab03fb",
   "metadata": {},
   "outputs": [],
   "source": [
    "data.to_json('bert_vectors_data.json')"
   ]
  }
 ],
 "metadata": {
  "kernelspec": {
   "display_name": "Python 3 (ipykernel)",
   "language": "python",
   "name": "python3"
  },
  "language_info": {
   "codemirror_mode": {
    "name": "ipython",
    "version": 3
   },
   "file_extension": ".py",
   "mimetype": "text/x-python",
   "name": "python",
   "nbconvert_exporter": "python",
   "pygments_lexer": "ipython3",
   "version": "3.10.9"
  }
 },
 "nbformat": 4,
 "nbformat_minor": 5
}
